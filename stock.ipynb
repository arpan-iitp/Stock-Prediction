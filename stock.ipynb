{
  "nbformat": 4,
  "nbformat_minor": 0,
  "metadata": {
    "colab": {
      "provenance": [],
      "authorship_tag": "ABX9TyPwaOEX5y4Lv+rmeNsLkbqB",
      "include_colab_link": true
    },
    "kernelspec": {
      "name": "python3",
      "display_name": "Python 3"
    },
    "language_info": {
      "name": "python"
    }
  },
  "cells": [
    {
      "cell_type": "markdown",
      "metadata": {
        "id": "view-in-github",
        "colab_type": "text"
      },
      "source": [
        "<a href=\"https://colab.research.google.com/github/Akasxh/stock-prediction/blob/main/stock.ipynb\" target=\"_parent\"><img src=\"https://colab.research.google.com/assets/colab-badge.svg\" alt=\"Open In Colab\"/></a>"
      ]
    },
    {
      "cell_type": "code",
      "source": [
        "pip install gradio"
      ],
      "metadata": {
        "id": "cWMOQXu9zeeD"
      },
      "execution_count": null,
      "outputs": []
    },
    {
      "cell_type": "code",
      "source": [
        "import gradio as gr"
      ],
      "metadata": {
        "id": "sVdTyB_Q3Hwf"
      },
      "execution_count": 2,
      "outputs": []
    },
    {
      "cell_type": "code",
      "execution_count": 4,
      "metadata": {
        "colab": {
          "base_uri": "https://localhost:8080/",
          "height": 767
        },
        "id": "uMChTT3Lzbo9",
        "outputId": "83d30412-f45b-475c-c082-af76b2a40868"
      },
      "outputs": [
        {
          "output_type": "stream",
          "name": "stdout",
          "text": [
            "\r[*********************100%%**********************]  1 of 1 completed\n"
          ]
        },
        {
          "output_type": "stream",
          "name": "stderr",
          "text": [
            "<ipython-input-4-fad2d29dfa25>:16: SettingWithCopyWarning: \n",
            "A value is trying to be set on a copy of a slice from a DataFrame.\n",
            "Try using .loc[row_indexer,col_indexer] = value instead\n",
            "\n",
            "See the caveats in the documentation: https://pandas.pydata.org/pandas-docs/stable/user_guide/indexing.html#returning-a-view-versus-a-copy\n",
            "  data['Date'] = data.index\n"
          ]
        },
        {
          "output_type": "stream",
          "name": "stdout",
          "text": [
            "Setting queue=True in a Colab notebook requires sharing enabled. Setting `share=True` (you can turn this off by setting `share=False` in `launch()` explicitly).\n",
            "\n",
            "Colab notebook detected. To show errors in colab notebook, set debug=True in launch()\n",
            "Running on public URL: https://0145aed8cdd03a55be.gradio.live\n",
            "\n",
            "This share link expires in 72 hours. For free permanent hosting and GPU upgrades, run `gradio deploy` from Terminal to deploy to Spaces (https://huggingface.co/spaces)\n"
          ]
        },
        {
          "output_type": "display_data",
          "data": {
            "text/plain": [
              "<IPython.core.display.HTML object>"
            ],
            "text/html": [
              "<div><iframe src=\"https://0145aed8cdd03a55be.gradio.live\" width=\"100%\" height=\"500\" allow=\"autoplay; camera; microphone; clipboard-read; clipboard-write;\" frameborder=\"0\" allowfullscreen></iframe></div>"
            ]
          },
          "metadata": {}
        },
        {
          "output_type": "execute_result",
          "data": {
            "text/plain": []
          },
          "metadata": {},
          "execution_count": 4
        }
      ],
      "source": [
        "import pandas as pd\n",
        "import yfinance as yf\n",
        "from sklearn.ensemble import RandomForestRegressor\n",
        "from sklearn.model_selection import train_test_split\n",
        "from sklearn.metrics import mean_squared_error\n",
        "import numpy as np\n",
        "\n",
        "# Download historical stock data\n",
        "def download_stock_data():\n",
        "    stock_data = yf.download('AAPL', start='2010-01-01', end='2023-01-01')\n",
        "    return stock_data\n",
        "\n",
        "# Prepare data\n",
        "stock_data = download_stock_data()\n",
        "data = stock_data[['Close']]\n",
        "data['Date'] = data.index\n",
        "data = data.reset_index(drop=True)\n",
        "\n",
        "# Feature engineering\n",
        "data['Year'] = data['Date'].dt.year\n",
        "data['Month'] = data['Date'].dt.month\n",
        "data['Day'] = data['Date'].dt.day\n",
        "\n",
        "# Define features and target variable\n",
        "features = ['Year', 'Month', 'Day']\n",
        "X = data[features]\n",
        "y = data['Close']\n",
        "\n",
        "# Split data into training and testing sets\n",
        "X_train, X_test, y_train, y_test = train_test_split(X, y, test_size=0.2, random_state=42)\n",
        "\n",
        "# Train a Random Forest model\n",
        "model = RandomForestRegressor(n_estimators=100, random_state=42)\n",
        "model.fit(X_train, y_train)\n",
        "\n",
        "# Function to predict stock price for a given date\n",
        "def predict_stock_price(year, month, day):\n",
        "    features = np.array([[year, month, day]])\n",
        "    predicted_price = model.predict(features)\n",
        "    return predicted_price[0]\n",
        "\n",
        "# Prompt the user for input\n",
        "def inpux(day,month,year):\n",
        "\n",
        "  # Predict and display the stock price\n",
        "  predicted_price = predict_stock_price(year, month, day)\n",
        "  print(f\"Predicted Stock Price: {predicted_price:.2f}\")\n",
        "  return predicted_price\n",
        "\n",
        "\n",
        "\n",
        "\n",
        "# Create Gradio interface\n",
        "qwerty = gr.Interface(\n",
        "    fn=inpux,\n",
        "    inputs=[\n",
        "        \"text\",\n",
        "        \"text\",\n",
        "        \"text\"\n",
        "    ],\n",
        "    outputs=\"text\",\n",
        "    title=\"Stock Prediction\",\n",
        "    description=\"Input a start and end date (in DD.MM.YYYY format) to get predictions and actual answers.\",\n",
        ")\n",
        "\n",
        "# Launch the interface\n",
        "qwerty.launch()"
      ]
    },
    {
      "cell_type": "code",
      "source": [],
      "metadata": {
        "id": "KobS-EKx3WcK"
      },
      "execution_count": null,
      "outputs": []
    }
  ]
}